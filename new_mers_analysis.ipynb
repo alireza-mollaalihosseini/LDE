{
  "nbformat": 4,
  "nbformat_minor": 0,
  "metadata": {
    "colab": {
      "provenance": [],
      "collapsed_sections": [
        "Kjy34pdUDIeV",
        "1ctfy3VQDPNV",
        "-JXwh1wmxAij",
        "xXSGAYrGWSGW",
        "RLowbfx1WYHf",
        "F7q-ms7aiCmr",
        "X-oBKP5NiFxD"
      ]
    },
    "kernelspec": {
      "name": "python3",
      "display_name": "Python 3"
    },
    "language_info": {
      "name": "python"
    }
  },
  "cells": [
    {
      "cell_type": "code",
      "source": [
        "!pip install python-igraph\n",
        "!pip install cairocffi"
      ],
      "metadata": {
        "id": "agPXj1CXMDSR"
      },
      "execution_count": null,
      "outputs": []
    },
    {
      "cell_type": "code",
      "execution_count": null,
      "metadata": {
        "id": "_EJlPS1ZAyH1"
      },
      "outputs": [],
      "source": [
        "import ast\n",
        "import math\n",
        "import random\n",
        "import numpy as np\n",
        "import pandas as pd\n",
        "import igraph as ig\n",
        "import networkx as nx\n",
        "import cairocffi as cairo\n",
        "import plotly.express as px\n",
        "import matplotlib.pyplot as plt"
      ]
    },
    {
      "cell_type": "code",
      "source": [
        "data = pd.read_csv(\"school_salathe.csv\", names=[\"Time\",\"ID1\",\"ID2\",\"count\"],header=None, sep=' ')\n",
        "data"
      ],
      "metadata": {
        "id": "PxIzyBLaA3o9"
      },
      "execution_count": null,
      "outputs": []
    },
    {
      "cell_type": "code",
      "source": [
        "test_df = data.copy()"
      ],
      "metadata": {
        "id": "qtiquBSeA_E3"
      },
      "execution_count": null,
      "outputs": []
    },
    {
      "cell_type": "code",
      "source": [
        "net = np.loadtxt('school_salathe.csv').astype(int) # read network\n",
        "print(net[:10,:]) # print first contacts"
      ],
      "metadata": {
        "id": "5V0iAozNBBfj"
      },
      "execution_count": null,
      "outputs": []
    },
    {
      "cell_type": "code",
      "source": [
        "# 1. Total number of people in the data\n",
        "# 2. Time unite of data\n",
        "# 3. Graph analysis\n",
        "# 4. Finding probable infected individuals(as seed)\n",
        "# 5. simulation\n",
        "# 6. correlation between graph results and simulation"
      ],
      "metadata": {
        "id": "JL8DOqSmBF0U"
      },
      "execution_count": null,
      "outputs": []
    },
    {
      "cell_type": "markdown",
      "source": [
        "# 1. Total number of people in the data"
      ],
      "metadata": {
        "id": "Kjy34pdUDIeV"
      }
    },
    {
      "cell_type": "code",
      "source": [
        "print(\"Total length of people(students(655),teachers(73), and staff(55),other(5)) :\" ,len(np.unique( test_df[[\"ID1\",\"ID2\"]] ) ))"
      ],
      "metadata": {
        "id": "ELJ_SSrdCA3p"
      },
      "execution_count": null,
      "outputs": []
    },
    {
      "cell_type": "markdown",
      "source": [
        "# 2. Time unite of data"
      ],
      "metadata": {
        "id": "1ctfy3VQDPNV"
      }
    },
    {
      "cell_type": "markdown",
      "source": [
        "Each time step corresponds to roughly 10 minutes. The weight corresponds to the number of contacts registered within the 10 minutes, where each contact can last ~20 sec\n",
        "\n"
      ],
      "metadata": {
        "id": "DLESfOv9ILB8"
      }
    },
    {
      "cell_type": "code",
      "source": [],
      "metadata": {
        "id": "RnO8m6xgIOR-"
      },
      "execution_count": null,
      "outputs": []
    },
    {
      "cell_type": "markdown",
      "source": [
        "# 3. Graph analysis"
      ],
      "metadata": {
        "id": "ygd2tgqMKSkv"
      }
    },
    {
      "cell_type": "code",
      "source": [
        "len(np.unique(data[data.Time==0][['ID1','ID2']]))"
      ],
      "metadata": {
        "id": "m5P9M0v5mx1r"
      },
      "execution_count": null,
      "outputs": []
    },
    {
      "cell_type": "code",
      "source": [
        "# we dont need any average analysis for this network\n",
        "# we should gatheer all graphs' properties and compare different individuals for disease simulation"
      ],
      "metadata": {
        "id": "mu3YMZkJKS7B"
      },
      "execution_count": null,
      "outputs": []
    },
    {
      "cell_type": "code",
      "source": [
        "snapshots = [ l for isx, l in data.groupby(\"Time\")]\n",
        "\n",
        "\n",
        "Properties = []\n",
        "for net in snapshots:\n",
        "  nodes = np.unique(net[[\"ID1\",\"ID2\"]])\n",
        "  G = nx.Graph()\n",
        "  G.add_nodes_from(nodes)\n",
        "  G.add_weighted_edges_from(np.array(net[[\"ID1\",\"ID2\",\"count\"]]))\n",
        "  g_prop = ig.Graph.from_networkx(G)\n",
        "  Properties.append({\"snapshot\": [net.Time.iloc[0]]*len(nodes), \"Density\": [(2 * len(G.edges()) )/(788 * 787)]*len(nodes),\n",
        "                     \"Nodes(ID)\": nodes, \"Degree\" : g_prop.degree(), \"PageRank\": g_prop.pagerank(directed=False),\n",
        "                     \"Betweenness\": g_prop.betweenness(directed=False)})"
      ],
      "metadata": {
        "id": "GI7N_M2fLrT6"
      },
      "execution_count": null,
      "outputs": []
    },
    {
      "cell_type": "code",
      "source": [
        "df = pd.concat((pd.DataFrame(test) for test in Properties))\n",
        "df"
      ],
      "metadata": {
        "id": "zOaLL792O0iq"
      },
      "execution_count": null,
      "outputs": []
    },
    {
      "cell_type": "markdown",
      "source": [
        "# 4. Finding probable infected individuals(as seed)"
      ],
      "metadata": {
        "id": "s8QNMWVZlY8A"
      }
    },
    {
      "cell_type": "code",
      "source": [
        "degree_seeds   = list(df.sort_values(by='Degree',ascending=False).head(10)['Nodes(ID)'])\n",
        "page_seeds     = list(df.sort_values(by='PageRank',ascending=False).head(10)['Nodes(ID)'])\n",
        "between_seeds  = list(df.sort_values(by='Betweenness',ascending=False).head(10)['Nodes(ID)'])\n",
        "var_seeds      = list(df.groupby('Nodes(ID)').Degree.describe().sort_values(by='std',ascending=False).head(10).index)\n",
        "selected_seeds = np.unique(degree_seeds+page_seeds+between_seeds+var_seeds)\n",
        "selected_seeds"
      ],
      "metadata": {
        "id": "loFh7EPKAFTM"
      },
      "execution_count": null,
      "outputs": []
    },
    {
      "cell_type": "markdown",
      "source": [
        "# Finding Transimissibility with having a R0 less than 1:"
      ],
      "metadata": {
        "id": "-JXwh1wmxAij"
      }
    },
    {
      "cell_type": "code",
      "source": [
        "def simulate_SIR( tr, network, N0, seed):\n",
        "    '''\n",
        "    This functions simulates a SIR process on a temporal network\n",
        "    \n",
        "    Arguments:\n",
        "    \n",
        "    1) t_max: number of simulation time steps; if t_max is larger than the duration of the network, \n",
        "    periodic boundary conditions are applied. The simulation may stop earlier if the epidemics dies out.\n",
        "    \n",
        "    2) tr: per-contact probability to transmit the disease from an infected individual to a susceptible one \n",
        "    during a single time step \n",
        "    \n",
        "    3) rec: probability to become recovered during a single time step\n",
        "    \n",
        "    4) N0: number of initially infected individuals\n",
        "    \n",
        "    Output:\n",
        "    \n",
        "    a list containing the prevalence during each time step\n",
        "    \n",
        "    '''\n",
        "    \n",
        "    # T = np.amax(network[:,0]) # get network duration (the period)\n",
        "    node_labels = np.unique( network[:, 1:3])  # get nodes' labels\n",
        "    \n",
        "    state = {i: 'S' for i in node_labels} # set all nodes as susceptibles ('S')\n",
        "    \n",
        "    #===== Seed the infection =====#\n",
        "    \n",
        "    # first_nodes = np.unique( network[ network[:,0] == 0 ][:, 1:3]) # select all nodes appearing in the first snapshot\n",
        "    \n",
        "    # Choose N0 individuals at random among the nodes that appear in the first snapshot \n",
        "    # if N0 < len(first_nodes):\n",
        "    #     seeds = np.random.choice(first_nodes, size = N0, replace = False)\n",
        "    # else:\n",
        "    #     seeds = first_nodes\n",
        "    \n",
        "    # Set the chosen nodes to infected (I)\n",
        "    # for seed in seeds:\n",
        "    state[seed] = 'I'\n",
        "        \n",
        "    prevalence = [N0] # This list will store the results\n",
        "    \n",
        "    #===== Start the simulation =====#\n",
        "    \n",
        "    # for t in range(t_max):\n",
        "    snapshot = network[ network[:,0] == 0 ] # select the snapshot (use t mod T in order to use periodic boundary conditions)    \n",
        "    new_infected = [] # This list will store the nodes that will become infected during this time step\n",
        "    \n",
        "    # loop over contacts in the current snapshot\n",
        "    for edge in snapshot[:,]:\n",
        "        s1 = state[ edge[1] ]\n",
        "        s2 = state[ edge[2] ]\n",
        "        \n",
        "        # check if the contact is between a susceptible and an infected node\n",
        "        if ( (s1 == 'S') and (s2 == 'I') ) or  ( (s2 == 'S') and (s1 == 'I') ) :\n",
        "            \n",
        "            if s1 == 'S':\n",
        "                target_node = edge[1]\n",
        "            else:  \n",
        "                target_node = edge[2]\n",
        "                \n",
        "            # check if infection occurs with probability given by the transmissibility ('tr')\n",
        "            # if infection occurs, do not set the susceptible node infected straight away\n",
        "            # but store this information in 'new_infected'.\n",
        "            # Also check that the susceptible node has not been infected yet!\n",
        "            if target_node not in new_infected:\n",
        "                if np.random.random() < tr:\n",
        "                    new_infected.append( target_node )\n",
        "\n",
        "    return new_infected  "
      ],
      "metadata": {
        "id": "q2zdiZoOxLWw"
      },
      "execution_count": null,
      "outputs": []
    },
    {
      "cell_type": "code",
      "source": [],
      "metadata": {
        "id": "cGmJKqOfWRps"
      },
      "execution_count": null,
      "outputs": []
    },
    {
      "cell_type": "markdown",
      "source": [
        "## seed: 287"
      ],
      "metadata": {
        "id": "xXSGAYrGWSGW"
      }
    },
    {
      "cell_type": "code",
      "source": [
        "transmissibility = np.linspace(0.01, 0.025, num=100)\n",
        "N0 = 1\n",
        "np.random.seed(123)\n",
        "\n",
        "result = []\n",
        "for trs in transmissibility:\n",
        "  for i in range(100):\n",
        "    R0 = simulate_SIR(tr = trs, network = net, N0 = N0, seed= 287)\n",
        "    result.append({\"seed\": 287, \"tr\":trs, 'R0': len(R0)})"
      ],
      "metadata": {
        "id": "S_Zjp6syyLLH"
      },
      "execution_count": null,
      "outputs": []
    },
    {
      "cell_type": "code",
      "source": [
        "test = pd.DataFrame(result)"
      ],
      "metadata": {
        "id": "2haB3J_pyrRF"
      },
      "execution_count": null,
      "outputs": []
    },
    {
      "cell_type": "code",
      "source": [
        "mean_R0 = test.groupby('tr').R0.describe()\n",
        "mean_R0"
      ],
      "metadata": {
        "id": "AuKno3OvzVH2"
      },
      "execution_count": null,
      "outputs": []
    },
    {
      "cell_type": "code",
      "source": [
        "import plotly.express as px\n",
        "px.line(mean_R0 ,x=mean_R0.index, y='mean',title = \"R0 versus transmissibility(seed:287)\")"
      ],
      "metadata": {
        "id": "n4DNkDtmSHcM"
      },
      "execution_count": null,
      "outputs": []
    },
    {
      "cell_type": "markdown",
      "source": [
        "## sedd:365"
      ],
      "metadata": {
        "id": "RLowbfx1WYHf"
      }
    },
    {
      "cell_type": "code",
      "source": [
        "transmissibility = np.linspace(0.05, 0.06, num=100)\n",
        "N0 = 1\n",
        "np.random.seed(123)\n",
        "\n",
        "result = []\n",
        "for trs in transmissibility:\n",
        "  for i in range(30):\n",
        "    R0 = simulate_SIR(tr = trs, network = net, N0 = N0, seed= 365)\n",
        "    result.append({\"seed\": 365, \"tr\":trs, 'R0': len(R0)})"
      ],
      "metadata": {
        "id": "S64qnhLKWsGJ"
      },
      "execution_count": null,
      "outputs": []
    },
    {
      "cell_type": "code",
      "source": [
        "test = pd.DataFrame(result)"
      ],
      "metadata": {
        "id": "LybLu-3KWwfE"
      },
      "execution_count": null,
      "outputs": []
    },
    {
      "cell_type": "code",
      "source": [
        "mean_R0 = test.groupby('tr').R0.describe()\n",
        "mean_R0"
      ],
      "metadata": {
        "id": "Oh8QlggSW0kK"
      },
      "execution_count": null,
      "outputs": []
    },
    {
      "cell_type": "code",
      "source": [
        "import plotly.express as px\n",
        "px.line(mean_R0 ,x=mean_R0.index, y='mean',title = \"R0 versus transmissibility(seed:365)\")"
      ],
      "metadata": {
        "id": "GfhjATtPW1jW"
      },
      "execution_count": null,
      "outputs": []
    },
    {
      "cell_type": "markdown",
      "source": [
        "# 5. SIR Simulation"
      ],
      "metadata": {
        "id": "A9OnbvUhqAWV"
      }
    },
    {
      "cell_type": "code",
      "source": [
        "def simulate_SIR(t_max, tr, rec, network, N0, seed):\n",
        "    '''\n",
        "    This functions simulates a SIR process on a temporal network\n",
        "    \n",
        "    Arguments:\n",
        "    \n",
        "    1) t_max: number of simulation time steps; if t_max is larger than the duration of the network, \n",
        "    periodic boundary conditions are applied. The simulation may stop earlier if the epidemics dies out.\n",
        "    \n",
        "    2) tr: per-contact probability to transmit the disease from an infected individual to a susceptible one \n",
        "    during a single time step \n",
        "    \n",
        "    3) rec: probability to become recovered during a single time step\n",
        "    \n",
        "    4) N0: number of initially infected individuals\n",
        "    \n",
        "    Output:\n",
        "    \n",
        "    a list containing the prevalence during each time step\n",
        "    \n",
        "    '''\n",
        "    \n",
        "    T = np.amax(network[:,0]) # get network duration (the period)\n",
        "    node_labels = np.unique( network[:, 1:3])  # get nodes' labels\n",
        "    \n",
        "    state = {i: 'S' for i in node_labels} # set all nodes as susceptibles ('S')\n",
        "    \n",
        "    #===== Seed the infection =====#\n",
        "    \n",
        "    # first_nodes = np.unique( network[ network[:,0] == 0 ][:, 1:3]) # select all nodes appearing in the first snapshot\n",
        "    \n",
        "    # Choose N0 individuals at random among the nodes that appear in the first snapshot \n",
        "    # if N0 < len(first_nodes):\n",
        "    #     seeds = np.random.choice(first_nodes, size = N0, replace = False)\n",
        "    # else:\n",
        "    #     seeds = first_nodes\n",
        "    \n",
        "    # Set the chosen nodes to infected (I)\n",
        "    # for seed in seeds:\n",
        "    state[seed] = 'I'\n",
        "        \n",
        "    prevalence = [N0] # This list will store the results\n",
        "    \n",
        "    #===== Start the simulation =====#\n",
        "    \n",
        "    for t in range(t_max):\n",
        "        snapshot = network[ network[:,0] == t % T ] # select the snapshot (use t mod T in order to use periodic boundary conditions)    \n",
        "        new_infected = [] # This list will store the nodes that will become infected during this time step\n",
        "        \n",
        "        # loop over contacts in the current snapshot\n",
        "        for edge in snapshot[:,]:\n",
        "            s1 = state[ edge[1] ]\n",
        "            s2 = state[ edge[2] ]\n",
        "            \n",
        "            # check if the contact is between a susceptible and an infected node\n",
        "            if ( (s1 == 'S') and (s2 == 'I') ) or  ( (s2 == 'S') and (s1 == 'I') ) :\n",
        "                \n",
        "                if s1 == 'S':\n",
        "                    target_node = edge[1]\n",
        "                else:  \n",
        "                    target_node = edge[2]\n",
        "                    \n",
        "                # check if infection occurs with probability given by the transmissibility ('tr')\n",
        "                # if infection occurs, do not set the susceptible node infected straight away\n",
        "                # but store this information in 'new_infected'.\n",
        "                # Also check that the susceptible node has not been infected yet!\n",
        "                if target_node not in new_infected:\n",
        "                    if np.random.random() < tr:\n",
        "                        new_infected.append( target_node )\n",
        "              \n",
        "        # loop over nodes; if a node is infected, it recovers with probability given by 'rec' and its\n",
        "        # status is set to 'R'\n",
        "        for node, s in state.items():\n",
        "            if s == 'I':\n",
        "                if np.random.random() < rec:\n",
        "                    state[node] = 'R'\n",
        "        \n",
        "        # finally update the status of nodes that have been successfully infected\n",
        "        for node in new_infected:\n",
        "            state[node] = 'I'\n",
        "          \n",
        "        # Compute the prevalence and store it\n",
        "        prev = len([node for node, s in state.items() if s == 'I'])\n",
        "        prevalence.append({'prev':prev,'prev_id':new_infected})\n",
        "        \n",
        "        # if there no infected halt the simulation\n",
        "        if (prev == 0) : # or (t > t_max)\n",
        "            break\n",
        "            \n",
        "    return prevalence"
      ],
      "metadata": {
        "id": "nqbWEra1qGZm"
      },
      "execution_count": null,
      "outputs": []
    },
    {
      "cell_type": "markdown",
      "source": [
        "## Simulation on selected seeds(all)"
      ],
      "metadata": {
        "id": "VGjP20PkBL3U"
      }
    },
    {
      "cell_type": "code",
      "source": [
        "t_max = 6*24*100 # maximum simulation time ( 10(day)* 24(hour)* 6 (10 minutes) )\n",
        "transmissibility = 0.00016 # infection probability 0.016\n",
        "recovery = 0.001 # recovery probability\n",
        "N0 = 1 # initial seeds\n",
        "\n",
        "results = []\n",
        "for seed in selected_seeds:\n",
        "  np.random.seed(123)\n",
        "  prevalence = simulate_SIR(t_max, tr = transmissibility, rec = recovery, network = net, N0 = N0, seed= seed)\n",
        "  total = len(np.unique(sum([a_dict['prev_id'] for a_dict in prevalence[1:]],[])))+1\n",
        "  prev = [a_dict['prev'] for a_dict in prevalence[1:]]\n",
        "  results.append({\"seed\":seed,'total':total , 'max_prev': max(prev), 'prevalence': prev})"
      ],
      "metadata": {
        "id": "kSUchtiPBQ-2"
      },
      "execution_count": null,
      "outputs": []
    },
    {
      "cell_type": "code",
      "source": [
        "results_df = pd.DataFrame(results)\n",
        "results_df.to_pickle(f\"results_all(salathe).pkl\")\n",
        "results_df.sort_values(by='total',ascending=False)"
      ],
      "metadata": {
        "id": "Kf4_DSlKBRJ1"
      },
      "execution_count": null,
      "outputs": []
    },
    {
      "cell_type": "markdown",
      "source": [
        "## Simulation on selected seeds(Degree_std)"
      ],
      "metadata": {
        "id": "ha4rNEJbphq0"
      }
    },
    {
      "cell_type": "code",
      "source": [
        "t_max = 6*24*100 # maximum simulation time ( 10(day)* 24(hour)* 6 (10 minutes) )\n",
        "transmissibility = 0.00016 # infection probability 0.016\n",
        "recovery = 0.001 # recovery probability\n",
        "N0 = 1 # initial seeds\n",
        "\n",
        "results = []\n",
        "for seed in selected_seeds:\n",
        "  np.random.seed(123)\n",
        "  prevalence = simulate_SIR(t_max, tr = transmissibility, rec = recovery, network = net, N0 = N0, seed= seed)\n",
        "  total = len(np.unique(sum([a_dict['prev_id'] for a_dict in prevalence[1:]],[])))+1\n",
        "  prev = [a_dict['prev'] for a_dict in prevalence[1:]]\n",
        "  results.append({\"seed\":seed,'total':total , 'max_prev': max(prev), 'prevalence': prev})"
      ],
      "metadata": {
        "id": "JquriqexLeK8"
      },
      "execution_count": null,
      "outputs": []
    },
    {
      "cell_type": "code",
      "source": [
        "results_df = pd.DataFrame(results)\n",
        "results_df.to_pickle(f\"results_Degree_std(salathe).pkl\")\n",
        "results_df.sort_values(by='total',ascending=False)"
      ],
      "metadata": {
        "id": "tUM1xDjU1vzg"
      },
      "execution_count": null,
      "outputs": []
    },
    {
      "cell_type": "code",
      "source": [
        "for i in range(10):\n",
        "  plt.plot(results_df['prevalence'].iloc[i])\n",
        "  plt.show()"
      ],
      "metadata": {
        "id": "LZ5hlsaQuJHY"
      },
      "execution_count": null,
      "outputs": []
    },
    {
      "cell_type": "code",
      "source": [],
      "metadata": {
        "id": "h11SaPmU8BFp"
      },
      "execution_count": null,
      "outputs": []
    },
    {
      "cell_type": "code",
      "source": [],
      "metadata": {
        "id": "SQfo-zYv8B2m"
      },
      "execution_count": null,
      "outputs": []
    },
    {
      "cell_type": "markdown",
      "source": [
        "## Simulation on selected seeds(Degree)"
      ],
      "metadata": {
        "id": "eFGFb6ra8Csg"
      }
    },
    {
      "cell_type": "code",
      "source": [
        "t_max = 6*24*100 # maximum simulation time ( 10(day)* 24(hour)* 6 (10 minutes) )\n",
        "transmissibility = 0.00016 # infection probability 0.016\n",
        "recovery = 0.001 # recovery probability\n",
        "N0 = 1 # initial seeds\n",
        "\n",
        "selected_seeds = df[(df.snapshot==0)].sort_values(by='Degree',ascending=False).head(10)['Nodes(ID)']\n",
        "selected_seeds = list(selected_seeds)\n",
        "selected_seeds\n",
        "\n",
        "results = []\n",
        "for seed in selected_seeds:\n",
        "  np.random.seed(123)\n",
        "  prevalence = simulate_SIR(t_max, tr = transmissibility, rec = recovery, network = net, N0 = N0, seed= seed)\n",
        "  total = len(np.unique(sum([a_dict['prev_id'] for a_dict in prevalence[1:]],[])))+1\n",
        "  prev = [a_dict['prev'] for a_dict in prevalence[1:]]\n",
        "  results.append({\"seed\":seed,'total':total , 'max_prev': max(prev), 'prevalence': prev})"
      ],
      "metadata": {
        "id": "BwHYW4Al8Csg"
      },
      "execution_count": null,
      "outputs": []
    },
    {
      "cell_type": "code",
      "source": [
        "results_df = pd.DataFrame(results)\n",
        "results_df.to_pickle(f\"results_Degree(salathe).pkl\")\n",
        "results_df.sort_values(by='total',ascending=False)"
      ],
      "metadata": {
        "id": "zrnmh86B8Csh"
      },
      "execution_count": null,
      "outputs": []
    },
    {
      "cell_type": "code",
      "source": [],
      "metadata": {
        "id": "WpA4ACzB8d6G"
      },
      "execution_count": null,
      "outputs": []
    },
    {
      "cell_type": "markdown",
      "source": [
        "## Simulation on selected seeds(PageRank)"
      ],
      "metadata": {
        "id": "J2WzW1md8eg-"
      }
    },
    {
      "cell_type": "code",
      "source": [
        "t_max = 6*24*100 # maximum simulation time ( 10(day)* 24(hour)* 6 (10 minutes) )\n",
        "transmissibility = 0.00016 # infection probability 0.016\n",
        "recovery = 0.001 # recovery probability\n",
        "N0 = 1 # initial seeds\n",
        "\n",
        "selected_seeds = df[(df.snapshot==0)].sort_values(by='PageRank',ascending=False).head(10)['Nodes(ID)']\n",
        "selected_seeds = list(selected_seeds)\n",
        "selected_seeds\n",
        "\n",
        "results = []\n",
        "for seed in selected_seeds:\n",
        "  np.random.seed(123)\n",
        "  prevalence = simulate_SIR(t_max, tr = transmissibility, rec = recovery, network = net, N0 = N0, seed= seed)\n",
        "  total = len(np.unique(sum([a_dict['prev_id'] for a_dict in prevalence[1:]],[])))+1\n",
        "  prev = [a_dict['prev'] for a_dict in prevalence[1:]]\n",
        "  results.append({\"seed\":seed,'total':total , 'max_prev': max(prev), 'prevalence': prev})"
      ],
      "metadata": {
        "id": "NcyPk0QM8eg_"
      },
      "execution_count": null,
      "outputs": []
    },
    {
      "cell_type": "code",
      "source": [
        "results_df = pd.DataFrame(results)\n",
        "results_df.to_pickle(f\"results_pagerank(salathe).pkl\")\n",
        "results_df.sort_values(by='total',ascending=False)"
      ],
      "metadata": {
        "id": "-uV-1CPE8eg_"
      },
      "execution_count": null,
      "outputs": []
    },
    {
      "cell_type": "code",
      "source": [],
      "metadata": {
        "id": "ovuTdQVP8mM2"
      },
      "execution_count": null,
      "outputs": []
    },
    {
      "cell_type": "markdown",
      "source": [
        "## Simulation on selected seeds(Betweenness)"
      ],
      "metadata": {
        "id": "Vl_OczT58mln"
      }
    },
    {
      "cell_type": "code",
      "source": [
        "t_max = 6*24*100 # maximum simulation time ( 10(day)* 24(hour)* 6 (10 minutes) )\n",
        "transmissibility = 0.00016 # infection probability 0.016\n",
        "recovery = 0.001 # recovery probability\n",
        "N0 = 1 # initial seeds\n",
        "\n",
        "selected_seeds = df[(df.snapshot==0)].sort_values(by='Betweenness',ascending=False).head(10)['Nodes(ID)']\n",
        "selected_seeds = list(selected_seeds)\n",
        "selected_seeds\n",
        "\n",
        "results = []\n",
        "for seed in selected_seeds:\n",
        "  np.random.seed(123)\n",
        "  prevalence = simulate_SIR(t_max, tr = transmissibility, rec = recovery, network = net, N0 = N0, seed= seed)\n",
        "  total = len(np.unique(sum([a_dict['prev_id'] for a_dict in prevalence[1:]],[])))+1\n",
        "  prev = [a_dict['prev'] for a_dict in prevalence[1:]]\n",
        "  results.append({\"seed\":seed,'total':total , 'max_prev': max(prev), 'prevalence': prev})"
      ],
      "metadata": {
        "id": "hcrUgfIh8mlo"
      },
      "execution_count": null,
      "outputs": []
    },
    {
      "cell_type": "code",
      "source": [
        "results_df = pd.DataFrame(results)\n",
        "results_df.to_pickle(f\"results_betweenness(salathe).pkl\")"
      ],
      "metadata": {
        "id": "wc9kNY_c8mlp"
      },
      "execution_count": null,
      "outputs": []
    },
    {
      "cell_type": "code",
      "source": [],
      "metadata": {
        "id": "2Ks8NjZPFeaS"
      },
      "execution_count": null,
      "outputs": []
    }
  ]
}